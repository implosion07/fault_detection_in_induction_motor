{
  "metadata": {
    "kernelspec": {
      "name": "python3",
      "display_name": "Python 3",
      "language": "python"
    },
    "language_info": {
      "name": "python",
      "version": "3.10.12",
      "mimetype": "text/x-python",
      "codemirror_mode": {
        "name": "ipython",
        "version": 3
      },
      "pygments_lexer": "ipython3",
      "nbconvert_exporter": "python",
      "file_extension": ".py"
    },
    "papermill": {
      "default_parameters": {},
      "duration": 147.886968,
      "end_time": "2021-09-24T16:37:37.119230",
      "environment_variables": {},
      "exception": null,
      "input_path": "__notebook__.ipynb",
      "output_path": "__notebook__.ipynb",
      "parameters": {},
      "start_time": "2021-09-24T16:35:09.232262",
      "version": "2.3.3"
    },
    "colab": {
      "provenance": [],
      "toc_visible": true,
      "gpuType": "T4"
    },
    "accelerator": "GPU",
    "kaggle": {
      "accelerator": "nvidiaTeslaT4",
      "dataSources": [
        {
          "sourceId": 2036204,
          "sourceType": "datasetVersion",
          "datasetId": 1219356
        }
      ],
      "dockerImageVersionId": 30559,
      "isInternetEnabled": true,
      "language": "python",
      "sourceType": "notebook",
      "isGpuEnabled": true
    }
  },
  "nbformat_minor": 0,
  "nbformat": 4,
  "cells": [
    {
      "cell_type": "markdown",
      "source": [
        "# Fault Detection in Induction Motor using Deep Learning\n",
        "## Case : With Sufficient Data\n",
        "\n",
        "#### Dataset: [Induction Motor Faults dataset](https://www.kaggle.com/uysalserkan/fault-induction-motor-dataset)"
      ],
      "metadata": {
        "papermill": {
          "duration": 0.025344,
          "end_time": "2021-09-24T16:35:18.044857",
          "exception": false,
          "start_time": "2021-09-24T16:35:18.019513",
          "status": "completed"
        },
        "tags": [],
        "id": "8f1adb20"
      }
    },
    {
      "cell_type": "markdown",
      "source": [
        "## Importing Data"
      ],
      "metadata": {
        "papermill": {
          "duration": 0.023156,
          "end_time": "2021-09-24T16:35:18.139073",
          "exception": false,
          "start_time": "2021-09-24T16:35:18.115917",
          "status": "completed"
        },
        "tags": [],
        "id": "cd3bee31"
      }
    },
    {
      "cell_type": "code",
      "source": [
        "# importing libraries\n",
        "import numpy as np\n",
        "import pandas as pd\n",
        "import glob\n",
        "import warnings\n",
        "warnings.filterwarnings(\"ignore\")"
      ],
      "metadata": {
        "papermill": {
          "duration": 0.037392,
          "end_time": "2021-09-24T16:35:18.199884",
          "exception": false,
          "start_time": "2021-09-24T16:35:18.162492",
          "status": "completed"
        },
        "tags": [],
        "id": "37fa79b6",
        "execution": {
          "iopub.status.busy": "2023-11-09T09:31:59.529886Z",
          "iopub.execute_input": "2023-11-09T09:31:59.530671Z",
          "iopub.status.idle": "2023-11-09T09:31:59.876628Z",
          "shell.execute_reply.started": "2023-11-09T09:31:59.530636Z",
          "shell.execute_reply": "2023-11-09T09:31:59.875750Z"
        },
        "trusted": true
      },
      "execution_count": null,
      "outputs": []
    },
    {
      "cell_type": "code",
      "source": [
        "# mounting drive\n",
        "from google.colab import drive\n",
        "drive.mount('/content/drive/')"
      ],
      "metadata": {
        "id": "9a7tSvuRrF4f",
        "outputId": "00a474a2-5047-4e8f-c66b-5fe00d705ddc",
        "execution": {
          "iopub.status.busy": "2023-11-09T09:32:04.021009Z",
          "iopub.execute_input": "2023-11-09T09:32:04.021512Z",
          "iopub.status.idle": "2023-11-09T09:32:04.029175Z",
          "shell.execute_reply.started": "2023-11-09T09:32:04.021483Z",
          "shell.execute_reply": "2023-11-09T09:32:04.028050Z"
        },
        "trusted": true
      },
      "execution_count": null,
      "outputs": [
        {
          "execution_count": 2,
          "output_type": "execute_result",
          "data": {
            "text/plain": "\"# mounting drive\\nfrom google.colab import drive\\ndrive.mount('/content/drive/')\""
          },
          "metadata": {}
        }
      ]
    },
    {
      "cell_type": "code",
      "source": [
        "# path\n",
        "path = \"/content/drive/MyDrive/sem7_project/final/archive/imbalance/\"\n",
        "\n",
        "#path = '/kaggle/input/fault-induction-motor-dataset/imbalance/'"
      ],
      "metadata": {
        "papermill": {
          "duration": 0.03094,
          "end_time": "2021-09-24T16:35:18.255679",
          "exception": false,
          "start_time": "2021-09-24T16:35:18.224739",
          "status": "completed"
        },
        "tags": [],
        "id": "dfcf0b20",
        "execution": {
          "iopub.status.busy": "2023-11-09T09:32:05.298349Z",
          "iopub.execute_input": "2023-11-09T09:32:05.299075Z",
          "iopub.status.idle": "2023-11-09T09:32:05.303466Z",
          "shell.execute_reply.started": "2023-11-09T09:32:05.299044Z",
          "shell.execute_reply": "2023-11-09T09:32:05.302402Z"
        },
        "trusted": true
      },
      "execution_count": null,
      "outputs": []
    },
    {
      "cell_type": "code",
      "source": [
        "normal_file_names = glob.glob(\"/kaggle/input/fault-induction-motor-dataset/normal/\"+'/normal/*.csv')\n",
        "imnormal_file_names_6g = glob.glob(path+'/imbalance/6g/*.csv')\n",
        "imnormal_file_names_10g = glob.glob(path+'/imbalance/10g/*.csv')\n",
        "imnormal_file_names_15g = glob.glob(path+'/imbalance/15g/*.csv')\n",
        "imnormal_file_names_20g = glob.glob(path+'/imbalance/20g/*.csv')\n",
        "imnormal_file_names_25g = glob.glob(path+'/imbalance/25g/*.csv')\n",
        "imnormal_file_names_30g = glob.glob(path+'/imbalance/30g/*.csv')"
      ],
      "metadata": {
        "papermill": {
          "duration": 0.06526,
          "end_time": "2021-09-24T16:35:18.344310",
          "exception": false,
          "start_time": "2021-09-24T16:35:18.279050",
          "status": "completed"
        },
        "tags": [],
        "id": "0d58e1c7",
        "execution": {
          "iopub.status.busy": "2023-11-09T09:32:06.774840Z",
          "iopub.execute_input": "2023-11-09T09:32:06.775207Z",
          "iopub.status.idle": "2023-11-09T09:32:06.880484Z",
          "shell.execute_reply.started": "2023-11-09T09:32:06.775177Z",
          "shell.execute_reply": "2023-11-09T09:32:06.879569Z"
        },
        "trusted": true
      },
      "execution_count": null,
      "outputs": []
    },
    {
      "cell_type": "code",
      "source": [
        "# defining data reader\n",
        "def dataReader(path_names):\n",
        "    data_n = pd.DataFrame()\n",
        "    for i in path_names:\n",
        "        low_data = pd.read_csv(i,header=None)\n",
        "        data_n = pd.concat([data_n,low_data],ignore_index=True)\n",
        "    return data_n"
      ],
      "metadata": {
        "papermill": {
          "duration": 0.031078,
          "end_time": "2021-09-24T16:35:18.399255",
          "exception": false,
          "start_time": "2021-09-24T16:35:18.368177",
          "status": "completed"
        },
        "tags": [],
        "id": "29817400",
        "execution": {
          "iopub.status.busy": "2023-11-09T09:32:07.217993Z",
          "iopub.execute_input": "2023-11-09T09:32:07.218895Z",
          "iopub.status.idle": "2023-11-09T09:32:07.224314Z",
          "shell.execute_reply.started": "2023-11-09T09:32:07.218860Z",
          "shell.execute_reply": "2023-11-09T09:32:07.223280Z"
        },
        "trusted": true
      },
      "execution_count": null,
      "outputs": []
    },
    {
      "cell_type": "code",
      "source": [
        "data_n = dataReader(normal_file_names)\n",
        "data_6g = dataReader(imnormal_file_names_6g)\n",
        "data_10g = dataReader(imnormal_file_names_10g)\n",
        "data_15g = dataReader(imnormal_file_names_15g)\n",
        "data_20g = dataReader(imnormal_file_names_20g)\n",
        "data_25g = dataReader(imnormal_file_names_25g)\n",
        "data_30g = dataReader(imnormal_file_names_30g)"
      ],
      "metadata": {
        "papermill": {
          "duration": 88.068207,
          "end_time": "2021-09-24T16:36:46.491046",
          "exception": false,
          "start_time": "2021-09-24T16:35:18.422839",
          "status": "completed"
        },
        "tags": [],
        "id": "b863e8a4",
        "execution": {
          "iopub.status.busy": "2023-11-09T09:32:09.270980Z",
          "iopub.execute_input": "2023-11-09T09:32:09.271850Z",
          "iopub.status.idle": "2023-11-09T09:34:19.150455Z",
          "shell.execute_reply.started": "2023-11-09T09:32:09.271815Z",
          "shell.execute_reply": "2023-11-09T09:34:19.149398Z"
        },
        "trusted": true
      },
      "execution_count": null,
      "outputs": []
    },
    {
      "cell_type": "code",
      "source": [
        "data_n.info()"
      ],
      "metadata": {
        "papermill": {
          "duration": 0.066046,
          "end_time": "2021-09-24T16:36:46.583921",
          "exception": false,
          "start_time": "2021-09-24T16:36:46.517875",
          "status": "completed"
        },
        "tags": [],
        "id": "48e38787",
        "outputId": "1459fa9f-dce9-46d3-8263-6447cac4e2c2",
        "execution": {
          "iopub.status.busy": "2023-11-09T09:34:19.152328Z",
          "iopub.execute_input": "2023-11-09T09:34:19.152687Z",
          "iopub.status.idle": "2023-11-09T09:34:19.164451Z",
          "shell.execute_reply.started": "2023-11-09T09:34:19.152655Z",
          "shell.execute_reply": "2023-11-09T09:34:19.163418Z"
        },
        "trusted": true
      },
      "execution_count": null,
      "outputs": [
        {
          "name": "stdout",
          "text": "<class 'pandas.core.frame.DataFrame'>\nRangeIndex: 12250000 entries, 0 to 12249999\nData columns (total 8 columns):\n #   Column  Dtype  \n---  ------  -----  \n 0   0       float64\n 1   1       float64\n 2   2       float64\n 3   3       float64\n 4   4       float64\n 5   5       float64\n 6   6       float64\n 7   7       float64\ndtypes: float64(8)\nmemory usage: 747.7 MB\n",
          "output_type": "stream"
        }
      ]
    },
    {
      "cell_type": "markdown",
      "source": [
        "#### Down Sampling"
      ],
      "metadata": {
        "papermill": {
          "duration": 0.031264,
          "end_time": "2021-09-24T16:36:46.645182",
          "exception": false,
          "start_time": "2021-09-24T16:36:46.613918",
          "status": "completed"
        },
        "tags": [],
        "id": "de46dd1d"
      }
    },
    {
      "cell_type": "code",
      "source": [
        "# Down Sampling\n",
        "def downSampler(data,a,b):\n",
        "    \"\"\"\n",
        "    data = data\n",
        "    a = start index\n",
        "    b = sampling rate\n",
        "    \"\"\"\n",
        "    data_decreased = pd.DataFrame()\n",
        "    x = b\n",
        "    for i in range(int(len(data)/x)):\n",
        "        data_decreased = data_decreased._append(data.iloc[a:b,:].sum()/x,ignore_index=True)\n",
        "        a += x\n",
        "        b += x\n",
        "    return data_decreased"
      ],
      "metadata": {
        "papermill": {
          "duration": 0.044286,
          "end_time": "2021-09-24T16:36:46.722242",
          "exception": false,
          "start_time": "2021-09-24T16:36:46.677956",
          "status": "completed"
        },
        "tags": [],
        "id": "f1a02c40",
        "execution": {
          "iopub.status.busy": "2023-11-09T09:34:28.950683Z",
          "iopub.execute_input": "2023-11-09T09:34:28.951061Z",
          "iopub.status.idle": "2023-11-09T09:34:28.957838Z",
          "shell.execute_reply.started": "2023-11-09T09:34:28.951030Z",
          "shell.execute_reply": "2023-11-09T09:34:28.956798Z"
        },
        "trusted": true
      },
      "execution_count": null,
      "outputs": []
    },
    {
      "cell_type": "code",
      "source": [
        "data_n = downSampler(data_n, 0, 5000)\n",
        "data_6g = downSampler(data_6g, 0, 5000)\n",
        "data_10g = downSampler(data_10g, 0, 5000)\n",
        "data_15g = downSampler(data_15g, 0, 5000)\n",
        "data_20g = downSampler(data_20g, 0, 5000)\n",
        "data_25g = downSampler(data_25g, 0, 5000)\n",
        "data_30g = downSampler(data_30g, 0, 5000)"
      ],
      "metadata": {
        "papermill": {
          "duration": 14.551518,
          "end_time": "2021-09-24T16:37:01.298358",
          "exception": false,
          "start_time": "2021-09-24T16:36:46.746840",
          "status": "completed"
        },
        "tags": [],
        "id": "09c6ede0",
        "execution": {
          "iopub.status.busy": "2023-11-09T09:34:29.607695Z",
          "iopub.execute_input": "2023-11-09T09:34:29.608036Z",
          "iopub.status.idle": "2023-11-09T09:34:51.338383Z",
          "shell.execute_reply.started": "2023-11-09T09:34:29.608008Z",
          "shell.execute_reply": "2023-11-09T09:34:51.337449Z"
        },
        "trusted": true
      },
      "execution_count": null,
      "outputs": []
    },
    {
      "cell_type": "code",
      "source": [
        "data_n"
      ],
      "metadata": {
        "papermill": {
          "duration": 0.054774,
          "end_time": "2021-09-24T16:37:01.377343",
          "exception": false,
          "start_time": "2021-09-24T16:37:01.322569",
          "status": "completed"
        },
        "tags": [],
        "id": "df944fa5",
        "outputId": "40c89d0b-467d-4b38-a3ed-b230b24ad224",
        "execution": {
          "iopub.status.busy": "2023-11-09T09:34:51.340215Z",
          "iopub.execute_input": "2023-11-09T09:34:51.340512Z",
          "iopub.status.idle": "2023-11-09T09:34:51.362667Z",
          "shell.execute_reply.started": "2023-11-09T09:34:51.340486Z",
          "shell.execute_reply": "2023-11-09T09:34:51.361603Z"
        },
        "trusted": true
      },
      "execution_count": null,
      "outputs": [
        {
          "execution_count": 10,
          "output_type": "execute_result",
          "data": {
            "text/plain": "             0         1         2         3         4         5         6  \\\n0     0.068100  0.011065  0.017430  0.001620 -0.059850  0.000868 -0.088720   \n1    -0.045139  0.015286 -0.010404 -0.000644  0.426827  0.005168  0.155058   \n2    -0.064635  0.029477  0.002314  0.001339  0.232491  0.005660  0.390845   \n3     0.089400 -0.002910  0.002770 -0.002331 -0.116512 -0.003224  0.219854   \n4    -0.070240  0.008164 -0.012449  0.002579  0.367824  0.008202  0.343822   \n...        ...       ...       ...       ...       ...       ...       ...   \n2445  0.014942  0.010274  0.000469  0.002580  0.138325  0.026142  0.336499   \n2446 -0.078864  0.016197  0.001844 -0.000609  0.105457  0.016553  0.583317   \n2447 -0.026635  0.000749  0.000612  0.002510  0.044352  0.010177  0.540934   \n2448  0.016440 -0.018926 -0.010451 -0.003154 -0.053072 -0.011704  0.407358   \n2449  0.026846  0.016300 -0.000227 -0.000158 -0.247938 -0.037531 -0.245142   \n\n             7  \n0     0.010209  \n1     0.013550  \n2     0.009958  \n3     0.012501  \n4     0.010695  \n...        ...  \n2445  0.009176  \n2446  0.011419  \n2447  0.012321  \n2448  0.012750  \n2449  0.011498  \n\n[2450 rows x 8 columns]",
            "text/html": "<div>\n<style scoped>\n    .dataframe tbody tr th:only-of-type {\n        vertical-align: middle;\n    }\n\n    .dataframe tbody tr th {\n        vertical-align: top;\n    }\n\n    .dataframe thead th {\n        text-align: right;\n    }\n</style>\n<table border=\"1\" class=\"dataframe\">\n  <thead>\n    <tr style=\"text-align: right;\">\n      <th></th>\n      <th>0</th>\n      <th>1</th>\n      <th>2</th>\n      <th>3</th>\n      <th>4</th>\n      <th>5</th>\n      <th>6</th>\n      <th>7</th>\n    </tr>\n  </thead>\n  <tbody>\n    <tr>\n      <th>0</th>\n      <td>0.068100</td>\n      <td>0.011065</td>\n      <td>0.017430</td>\n      <td>0.001620</td>\n      <td>-0.059850</td>\n      <td>0.000868</td>\n      <td>-0.088720</td>\n      <td>0.010209</td>\n    </tr>\n    <tr>\n      <th>1</th>\n      <td>-0.045139</td>\n      <td>0.015286</td>\n      <td>-0.010404</td>\n      <td>-0.000644</td>\n      <td>0.426827</td>\n      <td>0.005168</td>\n      <td>0.155058</td>\n      <td>0.013550</td>\n    </tr>\n    <tr>\n      <th>2</th>\n      <td>-0.064635</td>\n      <td>0.029477</td>\n      <td>0.002314</td>\n      <td>0.001339</td>\n      <td>0.232491</td>\n      <td>0.005660</td>\n      <td>0.390845</td>\n      <td>0.009958</td>\n    </tr>\n    <tr>\n      <th>3</th>\n      <td>0.089400</td>\n      <td>-0.002910</td>\n      <td>0.002770</td>\n      <td>-0.002331</td>\n      <td>-0.116512</td>\n      <td>-0.003224</td>\n      <td>0.219854</td>\n      <td>0.012501</td>\n    </tr>\n    <tr>\n      <th>4</th>\n      <td>-0.070240</td>\n      <td>0.008164</td>\n      <td>-0.012449</td>\n      <td>0.002579</td>\n      <td>0.367824</td>\n      <td>0.008202</td>\n      <td>0.343822</td>\n      <td>0.010695</td>\n    </tr>\n    <tr>\n      <th>...</th>\n      <td>...</td>\n      <td>...</td>\n      <td>...</td>\n      <td>...</td>\n      <td>...</td>\n      <td>...</td>\n      <td>...</td>\n      <td>...</td>\n    </tr>\n    <tr>\n      <th>2445</th>\n      <td>0.014942</td>\n      <td>0.010274</td>\n      <td>0.000469</td>\n      <td>0.002580</td>\n      <td>0.138325</td>\n      <td>0.026142</td>\n      <td>0.336499</td>\n      <td>0.009176</td>\n    </tr>\n    <tr>\n      <th>2446</th>\n      <td>-0.078864</td>\n      <td>0.016197</td>\n      <td>0.001844</td>\n      <td>-0.000609</td>\n      <td>0.105457</td>\n      <td>0.016553</td>\n      <td>0.583317</td>\n      <td>0.011419</td>\n    </tr>\n    <tr>\n      <th>2447</th>\n      <td>-0.026635</td>\n      <td>0.000749</td>\n      <td>0.000612</td>\n      <td>0.002510</td>\n      <td>0.044352</td>\n      <td>0.010177</td>\n      <td>0.540934</td>\n      <td>0.012321</td>\n    </tr>\n    <tr>\n      <th>2448</th>\n      <td>0.016440</td>\n      <td>-0.018926</td>\n      <td>-0.010451</td>\n      <td>-0.003154</td>\n      <td>-0.053072</td>\n      <td>-0.011704</td>\n      <td>0.407358</td>\n      <td>0.012750</td>\n    </tr>\n    <tr>\n      <th>2449</th>\n      <td>0.026846</td>\n      <td>0.016300</td>\n      <td>-0.000227</td>\n      <td>-0.000158</td>\n      <td>-0.247938</td>\n      <td>-0.037531</td>\n      <td>-0.245142</td>\n      <td>0.011498</td>\n    </tr>\n  </tbody>\n</table>\n<p>2450 rows × 8 columns</p>\n</div>"
          },
          "metadata": {}
        }
      ]
    },
    {
      "cell_type": "markdown",
      "source": [
        "#### FFT Convolution"
      ],
      "metadata": {
        "papermill": {
          "duration": 0.024231,
          "end_time": "2021-09-24T16:37:01.426369",
          "exception": false,
          "start_time": "2021-09-24T16:37:01.402138",
          "status": "completed"
        },
        "tags": [],
        "id": "67667f50"
      }
    },
    {
      "cell_type": "code",
      "source": [
        "# Performing convolution\n",
        "from scipy import signal\n",
        "def FFT(data):\n",
        "    autocorr = signal.fftconvolve(data,data[::-1],mode='full')\n",
        "    return pd.DataFrame(autocorr)"
      ],
      "metadata": {
        "papermill": {
          "duration": 0.897937,
          "end_time": "2021-09-24T16:37:02.349260",
          "exception": false,
          "start_time": "2021-09-24T16:37:01.451323",
          "status": "completed"
        },
        "tags": [],
        "id": "d3cd608d",
        "execution": {
          "iopub.status.busy": "2023-11-09T09:35:02.609461Z",
          "iopub.execute_input": "2023-11-09T09:35:02.609896Z",
          "iopub.status.idle": "2023-11-09T09:35:03.011670Z",
          "shell.execute_reply.started": "2023-11-09T09:35:02.609862Z",
          "shell.execute_reply": "2023-11-09T09:35:03.010836Z"
        },
        "trusted": true
      },
      "execution_count": null,
      "outputs": []
    },
    {
      "cell_type": "code",
      "source": [
        "data_n = FFT(data_n)\n",
        "data_6g = FFT(data_6g)\n",
        "data_10g = FFT(data_10g)\n",
        "data_15g = FFT(data_15g)\n",
        "data_20g = FFT(data_20g)\n",
        "data_25g = FFT(data_25g)\n",
        "data_30g = FFT(data_30g)"
      ],
      "metadata": {
        "papermill": {
          "duration": 0.05091,
          "end_time": "2021-09-24T16:37:02.424924",
          "exception": false,
          "start_time": "2021-09-24T16:37:02.374014",
          "status": "completed"
        },
        "tags": [],
        "id": "4f050c36",
        "execution": {
          "iopub.status.busy": "2023-11-09T09:35:04.107969Z",
          "iopub.execute_input": "2023-11-09T09:35:04.108665Z",
          "iopub.status.idle": "2023-11-09T09:35:04.137775Z",
          "shell.execute_reply.started": "2023-11-09T09:35:04.108631Z",
          "shell.execute_reply": "2023-11-09T09:35:04.136929Z"
        },
        "trusted": true
      },
      "execution_count": null,
      "outputs": []
    },
    {
      "cell_type": "code",
      "source": [
        "y_1 = pd.DataFrame(np.ones(int(len(data_n)),dtype=int))\n",
        "y_2 = pd.DataFrame(np.zeros(int(len(data_6g)),dtype=int))\n",
        "y_3 = pd.DataFrame(np.full((int(len(data_10g)),1),2))\n",
        "y_4 = pd.DataFrame(np.full((int(len(data_15g)),1),3))\n",
        "y_5 = pd.DataFrame(np.full((int(len(data_20g)),1),4))\n",
        "y_6 = pd.DataFrame(np.full((int(len(data_25g)),1),5))\n",
        "y_7 = pd.DataFrame(np.full((int(len(data_30g)),1),6))\n",
        "y = pd.concat([y_1,y_2,y_3,y_4,y_5,y_6,y_7], ignore_index=True)\n",
        "y"
      ],
      "metadata": {
        "papermill": {
          "duration": 0.044068,
          "end_time": "2021-09-24T16:37:02.493919",
          "exception": false,
          "start_time": "2021-09-24T16:37:02.449851",
          "status": "completed"
        },
        "tags": [],
        "id": "038206df",
        "outputId": "7075dd7d-a853-4717-c1ca-dbf889ae4649",
        "execution": {
          "iopub.status.busy": "2023-11-09T09:35:04.678854Z",
          "iopub.execute_input": "2023-11-09T09:35:04.679316Z",
          "iopub.status.idle": "2023-11-09T09:35:04.696018Z",
          "shell.execute_reply.started": "2023-11-09T09:35:04.679286Z",
          "shell.execute_reply": "2023-11-09T09:35:04.694932Z"
        },
        "trusted": true
      },
      "execution_count": null,
      "outputs": [
        {
          "execution_count": 13,
          "output_type": "execute_result",
          "data": {
            "text/plain": "       0\n0      1\n1      1\n2      1\n3      1\n4      1\n...   ..\n33688  6\n33689  6\n33690  6\n33691  6\n33692  6\n\n[33693 rows x 1 columns]",
            "text/html": "<div>\n<style scoped>\n    .dataframe tbody tr th:only-of-type {\n        vertical-align: middle;\n    }\n\n    .dataframe tbody tr th {\n        vertical-align: top;\n    }\n\n    .dataframe thead th {\n        text-align: right;\n    }\n</style>\n<table border=\"1\" class=\"dataframe\">\n  <thead>\n    <tr style=\"text-align: right;\">\n      <th></th>\n      <th>0</th>\n    </tr>\n  </thead>\n  <tbody>\n    <tr>\n      <th>0</th>\n      <td>1</td>\n    </tr>\n    <tr>\n      <th>1</th>\n      <td>1</td>\n    </tr>\n    <tr>\n      <th>2</th>\n      <td>1</td>\n    </tr>\n    <tr>\n      <th>3</th>\n      <td>1</td>\n    </tr>\n    <tr>\n      <th>4</th>\n      <td>1</td>\n    </tr>\n    <tr>\n      <th>...</th>\n      <td>...</td>\n    </tr>\n    <tr>\n      <th>33688</th>\n      <td>6</td>\n    </tr>\n    <tr>\n      <th>33689</th>\n      <td>6</td>\n    </tr>\n    <tr>\n      <th>33690</th>\n      <td>6</td>\n    </tr>\n    <tr>\n      <th>33691</th>\n      <td>6</td>\n    </tr>\n    <tr>\n      <th>33692</th>\n      <td>6</td>\n    </tr>\n  </tbody>\n</table>\n<p>33693 rows × 1 columns</p>\n</div>"
          },
          "metadata": {}
        }
      ]
    },
    {
      "cell_type": "code",
      "source": [
        "data = pd.concat([data_n,data_6g,data_10g,data_15g,data_20g,data_25g,data_30g],ignore_index=True)"
      ],
      "metadata": {
        "papermill": {
          "duration": 0.035822,
          "end_time": "2021-09-24T16:37:02.555025",
          "exception": false,
          "start_time": "2021-09-24T16:37:02.519203",
          "status": "completed"
        },
        "tags": [],
        "id": "5892bbeb",
        "execution": {
          "iopub.status.busy": "2023-11-09T09:35:08.139875Z",
          "iopub.execute_input": "2023-11-09T09:35:08.140259Z",
          "iopub.status.idle": "2023-11-09T09:35:08.147089Z",
          "shell.execute_reply.started": "2023-11-09T09:35:08.140220Z",
          "shell.execute_reply": "2023-11-09T09:35:08.146055Z"
        },
        "trusted": true
      },
      "execution_count": null,
      "outputs": []
    },
    {
      "cell_type": "code",
      "source": [
        "data"
      ],
      "metadata": {
        "papermill": {
          "duration": 0.051755,
          "end_time": "2021-09-24T16:37:02.631815",
          "exception": false,
          "start_time": "2021-09-24T16:37:02.580060",
          "status": "completed"
        },
        "tags": [],
        "id": "88d773df",
        "outputId": "26e65c39-e0b3-4d5c-a6ab-021c0d515fd6",
        "execution": {
          "iopub.status.busy": "2023-11-09T09:35:17.177860Z",
          "iopub.execute_input": "2023-11-09T09:35:17.178870Z",
          "iopub.status.idle": "2023-11-09T09:35:17.202172Z",
          "shell.execute_reply.started": "2023-11-09T09:35:17.178831Z",
          "shell.execute_reply": "2023-11-09T09:35:17.201255Z"
        },
        "trusted": true
      },
      "execution_count": null,
      "outputs": [
        {
          "execution_count": 15,
          "output_type": "execute_result",
          "data": {
            "text/plain": "             0         1         2         3         4         5         6   \\\n0      0.001828  0.001407  0.000633  0.000314 -0.018471 -0.006255 -0.023785   \n1     -0.000092 -0.001432 -0.000654 -0.000817  0.017794  0.004692  0.043053   \n2     -0.004291  0.000600  0.000154  0.000394  0.036423 -0.008018  0.044729   \n3     -0.002831  0.002876 -0.000647 -0.000118 -0.019607 -0.008133 -0.019475   \n4      0.005883 -0.004571  0.000293 -0.000323 -0.018166  0.018915  0.011407   \n...         ...       ...       ...       ...       ...       ...       ...   \n33688  0.012275 -0.003064 -0.033096 -0.097820 -0.001973  0.029366  0.110073   \n33689 -0.004604  0.023301  0.042960  0.068870 -0.007291 -0.043596 -0.064410   \n33690 -0.003967 -0.042896 -0.041638 -0.035789  0.060471  0.085712  0.360720   \n33691 -0.002119  0.033678  0.034634  0.016815 -0.048608 -0.045720 -0.151028   \n33692 -0.006149 -0.023978 -0.017272  0.001065  0.035643  0.028513  0.291504   \n\n             7         8         9         10        11        12        13  \\\n0     -0.004148  0.010819  0.001846  0.036653 -0.000102  0.021376 -0.003523   \n1      0.006219 -0.091761 -0.015580 -0.162975 -0.005451 -0.074709  0.001488   \n2      0.006493 -0.079549 -0.016486 -0.024822 -0.011557 -0.080927  0.013979   \n3      0.023109  0.030703  0.006767  0.241628 -0.002068  0.137273  0.022686   \n4      0.028656 -0.033670 -0.006434  0.141389  0.001693  0.277524  0.031725   \n...         ...       ...       ...       ...       ...       ...       ...   \n33688  0.097736  0.583000 -0.000476 -0.165672 -0.050191 -2.189738 -0.110477   \n33689 -0.066192 -0.423388  0.058740 -0.352882 -0.055839 -3.111675 -0.034305   \n33690  0.414517  0.227751 -0.136313 -0.566647 -0.141545 -2.288712 -0.122844   \n33691 -0.149389 -0.146872  0.056739  0.176578  0.031899 -0.069253 -0.029774   \n33692  0.225732 -0.017877 -0.126550 -0.158107 -0.048769 -0.974277 -0.005080   \n\n             14  \n0      0.000117  \n1      0.000286  \n2      0.000413  \n3      0.000554  \n4      0.000653  \n...         ...  \n33688 -0.000031  \n33689 -0.001241  \n33690 -0.000350  \n33691 -0.000065  \n33692 -0.000005  \n\n[33693 rows x 15 columns]",
            "text/html": "<div>\n<style scoped>\n    .dataframe tbody tr th:only-of-type {\n        vertical-align: middle;\n    }\n\n    .dataframe tbody tr th {\n        vertical-align: top;\n    }\n\n    .dataframe thead th {\n        text-align: right;\n    }\n</style>\n<table border=\"1\" class=\"dataframe\">\n  <thead>\n    <tr style=\"text-align: right;\">\n      <th></th>\n      <th>0</th>\n      <th>1</th>\n      <th>2</th>\n      <th>3</th>\n      <th>4</th>\n      <th>5</th>\n      <th>6</th>\n      <th>7</th>\n      <th>8</th>\n      <th>9</th>\n      <th>10</th>\n      <th>11</th>\n      <th>12</th>\n      <th>13</th>\n      <th>14</th>\n    </tr>\n  </thead>\n  <tbody>\n    <tr>\n      <th>0</th>\n      <td>0.001828</td>\n      <td>0.001407</td>\n      <td>0.000633</td>\n      <td>0.000314</td>\n      <td>-0.018471</td>\n      <td>-0.006255</td>\n      <td>-0.023785</td>\n      <td>-0.004148</td>\n      <td>0.010819</td>\n      <td>0.001846</td>\n      <td>0.036653</td>\n      <td>-0.000102</td>\n      <td>0.021376</td>\n      <td>-0.003523</td>\n      <td>0.000117</td>\n    </tr>\n    <tr>\n      <th>1</th>\n      <td>-0.000092</td>\n      <td>-0.001432</td>\n      <td>-0.000654</td>\n      <td>-0.000817</td>\n      <td>0.017794</td>\n      <td>0.004692</td>\n      <td>0.043053</td>\n      <td>0.006219</td>\n      <td>-0.091761</td>\n      <td>-0.015580</td>\n      <td>-0.162975</td>\n      <td>-0.005451</td>\n      <td>-0.074709</td>\n      <td>0.001488</td>\n      <td>0.000286</td>\n    </tr>\n    <tr>\n      <th>2</th>\n      <td>-0.004291</td>\n      <td>0.000600</td>\n      <td>0.000154</td>\n      <td>0.000394</td>\n      <td>0.036423</td>\n      <td>-0.008018</td>\n      <td>0.044729</td>\n      <td>0.006493</td>\n      <td>-0.079549</td>\n      <td>-0.016486</td>\n      <td>-0.024822</td>\n      <td>-0.011557</td>\n      <td>-0.080927</td>\n      <td>0.013979</td>\n      <td>0.000413</td>\n    </tr>\n    <tr>\n      <th>3</th>\n      <td>-0.002831</td>\n      <td>0.002876</td>\n      <td>-0.000647</td>\n      <td>-0.000118</td>\n      <td>-0.019607</td>\n      <td>-0.008133</td>\n      <td>-0.019475</td>\n      <td>0.023109</td>\n      <td>0.030703</td>\n      <td>0.006767</td>\n      <td>0.241628</td>\n      <td>-0.002068</td>\n      <td>0.137273</td>\n      <td>0.022686</td>\n      <td>0.000554</td>\n    </tr>\n    <tr>\n      <th>4</th>\n      <td>0.005883</td>\n      <td>-0.004571</td>\n      <td>0.000293</td>\n      <td>-0.000323</td>\n      <td>-0.018166</td>\n      <td>0.018915</td>\n      <td>0.011407</td>\n      <td>0.028656</td>\n      <td>-0.033670</td>\n      <td>-0.006434</td>\n      <td>0.141389</td>\n      <td>0.001693</td>\n      <td>0.277524</td>\n      <td>0.031725</td>\n      <td>0.000653</td>\n    </tr>\n    <tr>\n      <th>...</th>\n      <td>...</td>\n      <td>...</td>\n      <td>...</td>\n      <td>...</td>\n      <td>...</td>\n      <td>...</td>\n      <td>...</td>\n      <td>...</td>\n      <td>...</td>\n      <td>...</td>\n      <td>...</td>\n      <td>...</td>\n      <td>...</td>\n      <td>...</td>\n      <td>...</td>\n    </tr>\n    <tr>\n      <th>33688</th>\n      <td>0.012275</td>\n      <td>-0.003064</td>\n      <td>-0.033096</td>\n      <td>-0.097820</td>\n      <td>-0.001973</td>\n      <td>0.029366</td>\n      <td>0.110073</td>\n      <td>0.097736</td>\n      <td>0.583000</td>\n      <td>-0.000476</td>\n      <td>-0.165672</td>\n      <td>-0.050191</td>\n      <td>-2.189738</td>\n      <td>-0.110477</td>\n      <td>-0.000031</td>\n    </tr>\n    <tr>\n      <th>33689</th>\n      <td>-0.004604</td>\n      <td>0.023301</td>\n      <td>0.042960</td>\n      <td>0.068870</td>\n      <td>-0.007291</td>\n      <td>-0.043596</td>\n      <td>-0.064410</td>\n      <td>-0.066192</td>\n      <td>-0.423388</td>\n      <td>0.058740</td>\n      <td>-0.352882</td>\n      <td>-0.055839</td>\n      <td>-3.111675</td>\n      <td>-0.034305</td>\n      <td>-0.001241</td>\n    </tr>\n    <tr>\n      <th>33690</th>\n      <td>-0.003967</td>\n      <td>-0.042896</td>\n      <td>-0.041638</td>\n      <td>-0.035789</td>\n      <td>0.060471</td>\n      <td>0.085712</td>\n      <td>0.360720</td>\n      <td>0.414517</td>\n      <td>0.227751</td>\n      <td>-0.136313</td>\n      <td>-0.566647</td>\n      <td>-0.141545</td>\n      <td>-2.288712</td>\n      <td>-0.122844</td>\n      <td>-0.000350</td>\n    </tr>\n    <tr>\n      <th>33691</th>\n      <td>-0.002119</td>\n      <td>0.033678</td>\n      <td>0.034634</td>\n      <td>0.016815</td>\n      <td>-0.048608</td>\n      <td>-0.045720</td>\n      <td>-0.151028</td>\n      <td>-0.149389</td>\n      <td>-0.146872</td>\n      <td>0.056739</td>\n      <td>0.176578</td>\n      <td>0.031899</td>\n      <td>-0.069253</td>\n      <td>-0.029774</td>\n      <td>-0.000065</td>\n    </tr>\n    <tr>\n      <th>33692</th>\n      <td>-0.006149</td>\n      <td>-0.023978</td>\n      <td>-0.017272</td>\n      <td>0.001065</td>\n      <td>0.035643</td>\n      <td>0.028513</td>\n      <td>0.291504</td>\n      <td>0.225732</td>\n      <td>-0.017877</td>\n      <td>-0.126550</td>\n      <td>-0.158107</td>\n      <td>-0.048769</td>\n      <td>-0.974277</td>\n      <td>-0.005080</td>\n      <td>-0.000005</td>\n    </tr>\n  </tbody>\n</table>\n<p>33693 rows × 15 columns</p>\n</div>"
          },
          "metadata": {}
        }
      ]
    },
    {
      "cell_type": "markdown",
      "source": [
        "## Train and Test Split"
      ],
      "metadata": {
        "id": "G5iDs4FoJEpH"
      }
    },
    {
      "cell_type": "code",
      "source": [
        "from sklearn.model_selection import train_test_split\n",
        "X_train, X_test, y_train, y_test = train_test_split(data, y, test_size=0.30, shuffle=True)"
      ],
      "metadata": {
        "papermill": {
          "duration": 0.225879,
          "end_time": "2021-09-24T16:37:02.883570",
          "exception": false,
          "start_time": "2021-09-24T16:37:02.657691",
          "status": "completed"
        },
        "tags": [],
        "id": "0b6f34ed",
        "execution": {
          "iopub.status.busy": "2023-11-09T09:35:19.558450Z",
          "iopub.execute_input": "2023-11-09T09:35:19.558864Z",
          "iopub.status.idle": "2023-11-09T09:35:19.632136Z",
          "shell.execute_reply.started": "2023-11-09T09:35:19.558830Z",
          "shell.execute_reply": "2023-11-09T09:35:19.631270Z"
        },
        "trusted": true
      },
      "execution_count": null,
      "outputs": []
    },
    {
      "cell_type": "code",
      "source": [
        "print(\"Shape of Train Data : {}\".format(X_train.shape))\n",
        "print(\"Shape of Test Data : {}\".format(X_test.shape))"
      ],
      "metadata": {
        "papermill": {
          "duration": 0.034572,
          "end_time": "2021-09-24T16:37:02.944068",
          "exception": false,
          "start_time": "2021-09-24T16:37:02.909496",
          "status": "completed"
        },
        "tags": [],
        "id": "efde008e",
        "outputId": "3b852bb4-1b35-49cc-dc68-ea65a79fa942",
        "execution": {
          "iopub.status.busy": "2023-11-09T09:35:23.908345Z",
          "iopub.execute_input": "2023-11-09T09:35:23.908714Z",
          "iopub.status.idle": "2023-11-09T09:35:23.914091Z",
          "shell.execute_reply.started": "2023-11-09T09:35:23.908687Z",
          "shell.execute_reply": "2023-11-09T09:35:23.913032Z"
        },
        "trusted": true
      },
      "execution_count": null,
      "outputs": [
        {
          "name": "stdout",
          "text": "Shape of Train Data : (23585, 15)\nShape of Test Data : (10108, 15)\n",
          "output_type": "stream"
        }
      ]
    },
    {
      "cell_type": "markdown",
      "source": [
        "## DNN Deep Learning\n",
        "### Build Model"
      ],
      "metadata": {
        "papermill": {
          "duration": 0.027574,
          "end_time": "2021-09-24T16:37:13.324627",
          "exception": false,
          "start_time": "2021-09-24T16:37:13.297053",
          "status": "completed"
        },
        "tags": [],
        "id": "bdb6e265"
      }
    },
    {
      "cell_type": "code",
      "source": [
        "from tensorflow.keras.models import Sequential\n",
        "from tensorflow.keras.layers import Dense\n",
        "from tensorflow.keras.layers import Dropout\n",
        "from tensorflow.keras.callbacks import EarlyStopping"
      ],
      "metadata": {
        "papermill": {
          "duration": 6.576683,
          "end_time": "2021-09-24T16:37:19.929068",
          "exception": false,
          "start_time": "2021-09-24T16:37:13.352385",
          "status": "completed"
        },
        "tags": [],
        "id": "f67f6150",
        "execution": {
          "iopub.status.busy": "2023-11-09T09:35:26.099042Z",
          "iopub.execute_input": "2023-11-09T09:35:26.100086Z",
          "iopub.status.idle": "2023-11-09T09:35:29.323847Z",
          "shell.execute_reply.started": "2023-11-09T09:35:26.100051Z",
          "shell.execute_reply": "2023-11-09T09:35:29.322629Z"
        },
        "trusted": true
      },
      "execution_count": null,
      "outputs": []
    },
    {
      "cell_type": "code",
      "source": [
        "# Creating the model\n",
        "early_stop = EarlyStopping(monitor='loss', patience=2)\n",
        "model = Sequential()\n",
        "\n",
        "model.add(Dense(32, activation='relu', input_shape=(15,),kernel_initializer='random_uniform'))\n",
        "model.add(Dense(64, activation='relu',kernel_initializer='random_uniform'))\n",
        "model.add(Dense(128, activation='relu',kernel_initializer='random_uniform'))\n",
        "model.add(Dense(64, activation='relu',kernel_initializer='random_uniform'))\n",
        "model.add(Dense(32, activation='relu',kernel_initializer='random_uniform'))\n",
        "model.add(Dense(7, activation='softmax',kernel_initializer='random_uniform'))\n",
        "\n",
        "model.compile(optimizer='adam', loss='sparse_categorical_crossentropy', metrics=['accuracy'])\n"
      ],
      "metadata": {
        "id": "OadopbRKJNdY",
        "execution": {
          "iopub.status.busy": "2023-11-09T09:35:29.325947Z",
          "iopub.execute_input": "2023-11-09T09:35:29.326668Z",
          "iopub.status.idle": "2023-11-09T09:35:32.156717Z",
          "shell.execute_reply.started": "2023-11-09T09:35:29.326631Z",
          "shell.execute_reply": "2023-11-09T09:35:32.155790Z"
        },
        "trusted": true
      },
      "execution_count": null,
      "outputs": []
    },
    {
      "cell_type": "code",
      "source": [
        "# the model\n",
        "model.summary()"
      ],
      "metadata": {
        "execution": {
          "iopub.status.busy": "2023-11-09T09:35:33.966269Z",
          "iopub.execute_input": "2023-11-09T09:35:33.967225Z",
          "iopub.status.idle": "2023-11-09T09:35:33.990867Z",
          "shell.execute_reply.started": "2023-11-09T09:35:33.967178Z",
          "shell.execute_reply": "2023-11-09T09:35:33.989920Z"
        },
        "trusted": true,
        "id": "lTYK5BVtdS0v",
        "outputId": "f13c8258-40af-4386-dfb7-6ee8e34deebc"
      },
      "execution_count": null,
      "outputs": [
        {
          "name": "stdout",
          "text": "Model: \"sequential\"\n_________________________________________________________________\n Layer (type)                Output Shape              Param #   \n=================================================================\n dense (Dense)               (None, 32)                512       \n                                                                 \n dense_1 (Dense)             (None, 64)                2112      \n                                                                 \n dense_2 (Dense)             (None, 128)               8320      \n                                                                 \n dense_3 (Dense)             (None, 64)                8256      \n                                                                 \n dense_4 (Dense)             (None, 32)                2080      \n                                                                 \n dense_5 (Dense)             (None, 7)                 231       \n                                                                 \n=================================================================\nTotal params: 21,511\nTrainable params: 21,511\nNon-trainable params: 0\n_________________________________________________________________\n",
          "output_type": "stream"
        }
      ]
    },
    {
      "cell_type": "code",
      "source": [
        "from sklearn.preprocessing import LabelEncoder\n",
        "y = LabelEncoder().fit_transform(y)\n"
      ],
      "metadata": {
        "papermill": {
          "duration": 0.038576,
          "end_time": "2021-09-24T16:37:19.997303",
          "exception": false,
          "start_time": "2021-09-24T16:37:19.958727",
          "status": "completed"
        },
        "tags": [],
        "id": "bfef73b9",
        "execution": {
          "iopub.status.busy": "2023-11-09T09:35:34.266874Z",
          "iopub.execute_input": "2023-11-09T09:35:34.267632Z",
          "iopub.status.idle": "2023-11-09T09:35:34.275028Z",
          "shell.execute_reply.started": "2023-11-09T09:35:34.267601Z",
          "shell.execute_reply": "2023-11-09T09:35:34.274066Z"
        },
        "trusted": true
      },
      "execution_count": null,
      "outputs": []
    },
    {
      "cell_type": "markdown",
      "source": [
        "### Training DNN"
      ],
      "metadata": {
        "papermill": {
          "duration": 0.029353,
          "end_time": "2021-09-24T16:37:20.056029",
          "exception": false,
          "start_time": "2021-09-24T16:37:20.026676",
          "status": "completed"
        },
        "tags": [],
        "id": "b651804b"
      }
    },
    {
      "cell_type": "code",
      "source": [
        "hist = model.fit(X_train , y_train , epochs=50, validation_split=0.2)"
      ],
      "metadata": {
        "papermill": {
          "duration": 12.469953,
          "end_time": "2021-09-24T16:37:32.555207",
          "exception": false,
          "start_time": "2021-09-24T16:37:20.085254",
          "status": "completed"
        },
        "tags": [],
        "id": "46fbd217",
        "outputId": "6db52e63-92f1-410a-dfca-5ab75c0aa502",
        "execution": {
          "iopub.status.busy": "2023-11-09T09:35:36.236960Z",
          "iopub.execute_input": "2023-11-09T09:35:36.237879Z",
          "iopub.status.idle": "2023-11-09T09:37:32.994667Z",
          "shell.execute_reply.started": "2023-11-09T09:35:36.237842Z",
          "shell.execute_reply": "2023-11-09T09:37:32.993819Z"
        },
        "trusted": true
      },
      "execution_count": null,
      "outputs": [
        {
          "name": "stdout",
          "text": "Epoch 1/50\n590/590 [==============================] - 6s 4ms/step - loss: 1.5276 - accuracy: 0.3325 - val_loss: 1.3652 - val_accuracy: 0.4068\nEpoch 2/50\n590/590 [==============================] - 2s 4ms/step - loss: 1.1419 - accuracy: 0.4843 - val_loss: 0.9354 - val_accuracy: 0.5874\nEpoch 3/50\n590/590 [==============================] - 2s 4ms/step - loss: 0.9115 - accuracy: 0.6154 - val_loss: 0.7891 - val_accuracy: 0.6788\nEpoch 4/50\n590/590 [==============================] - 2s 4ms/step - loss: 0.7786 - accuracy: 0.6896 - val_loss: 0.7174 - val_accuracy: 0.7013\nEpoch 5/50\n590/590 [==============================] - 2s 4ms/step - loss: 0.6798 - accuracy: 0.7348 - val_loss: 0.6425 - val_accuracy: 0.7505\nEpoch 6/50\n590/590 [==============================] - 2s 4ms/step - loss: 0.6034 - accuracy: 0.7597 - val_loss: 0.5784 - val_accuracy: 0.7806\nEpoch 7/50\n590/590 [==============================] - 2s 4ms/step - loss: 0.5548 - accuracy: 0.7807 - val_loss: 0.5133 - val_accuracy: 0.7937\nEpoch 8/50\n590/590 [==============================] - 2s 4ms/step - loss: 0.4781 - accuracy: 0.8053 - val_loss: 0.4232 - val_accuracy: 0.8215\nEpoch 9/50\n590/590 [==============================] - 2s 4ms/step - loss: 0.4314 - accuracy: 0.8228 - val_loss: 0.3945 - val_accuracy: 0.8368\nEpoch 10/50\n590/590 [==============================] - 2s 4ms/step - loss: 0.4115 - accuracy: 0.8325 - val_loss: 0.3621 - val_accuracy: 0.8491\nEpoch 11/50\n590/590 [==============================] - 2s 4ms/step - loss: 0.3673 - accuracy: 0.8508 - val_loss: 0.4071 - val_accuracy: 0.8414\nEpoch 12/50\n590/590 [==============================] - 2s 4ms/step - loss: 0.3544 - accuracy: 0.8614 - val_loss: 0.3426 - val_accuracy: 0.8609\nEpoch 13/50\n590/590 [==============================] - 2s 4ms/step - loss: 0.3277 - accuracy: 0.8721 - val_loss: 0.4224 - val_accuracy: 0.8281\nEpoch 14/50\n590/590 [==============================] - 2s 4ms/step - loss: 0.3093 - accuracy: 0.8809 - val_loss: 0.2821 - val_accuracy: 0.8908\nEpoch 15/50\n590/590 [==============================] - 2s 4ms/step - loss: 0.3004 - accuracy: 0.8864 - val_loss: 0.2596 - val_accuracy: 0.9023\nEpoch 16/50\n590/590 [==============================] - 2s 4ms/step - loss: 0.2868 - accuracy: 0.8919 - val_loss: 0.3188 - val_accuracy: 0.8783\nEpoch 17/50\n590/590 [==============================] - 2s 4ms/step - loss: 0.2546 - accuracy: 0.9051 - val_loss: 0.2494 - val_accuracy: 0.9095\nEpoch 18/50\n590/590 [==============================] - 2s 4ms/step - loss: 0.2486 - accuracy: 0.9068 - val_loss: 0.2241 - val_accuracy: 0.9167\nEpoch 19/50\n590/590 [==============================] - 2s 4ms/step - loss: 0.2534 - accuracy: 0.9030 - val_loss: 0.2615 - val_accuracy: 0.9016\nEpoch 20/50\n590/590 [==============================] - 2s 4ms/step - loss: 0.2347 - accuracy: 0.9107 - val_loss: 0.2128 - val_accuracy: 0.9186\nEpoch 21/50\n590/590 [==============================] - 2s 4ms/step - loss: 0.2159 - accuracy: 0.9189 - val_loss: 0.1920 - val_accuracy: 0.9315\nEpoch 22/50\n590/590 [==============================] - 2s 4ms/step - loss: 0.2295 - accuracy: 0.9162 - val_loss: 0.2228 - val_accuracy: 0.9127\nEpoch 23/50\n590/590 [==============================] - 2s 4ms/step - loss: 0.2069 - accuracy: 0.9218 - val_loss: 0.2266 - val_accuracy: 0.9211\nEpoch 24/50\n590/590 [==============================] - 2s 4ms/step - loss: 0.1993 - accuracy: 0.9259 - val_loss: 0.2076 - val_accuracy: 0.9264\nEpoch 25/50\n590/590 [==============================] - 2s 4ms/step - loss: 0.1919 - accuracy: 0.9292 - val_loss: 0.1795 - val_accuracy: 0.9332\nEpoch 26/50\n590/590 [==============================] - 2s 4ms/step - loss: 0.2114 - accuracy: 0.9231 - val_loss: 0.2078 - val_accuracy: 0.9218\nEpoch 27/50\n590/590 [==============================] - 2s 4ms/step - loss: 0.1775 - accuracy: 0.9357 - val_loss: 0.1979 - val_accuracy: 0.9266\nEpoch 28/50\n590/590 [==============================] - 2s 4ms/step - loss: 0.1750 - accuracy: 0.9345 - val_loss: 0.1977 - val_accuracy: 0.9237\nEpoch 29/50\n590/590 [==============================] - 2s 4ms/step - loss: 0.1661 - accuracy: 0.9374 - val_loss: 0.1700 - val_accuracy: 0.9389\nEpoch 30/50\n590/590 [==============================] - 2s 4ms/step - loss: 0.1778 - accuracy: 0.9334 - val_loss: 0.1923 - val_accuracy: 0.9243\nEpoch 31/50\n590/590 [==============================] - 2s 4ms/step - loss: 0.1601 - accuracy: 0.9415 - val_loss: 0.1690 - val_accuracy: 0.9366\nEpoch 32/50\n590/590 [==============================] - 2s 4ms/step - loss: 0.1595 - accuracy: 0.9415 - val_loss: 0.1385 - val_accuracy: 0.9481\nEpoch 33/50\n590/590 [==============================] - 2s 4ms/step - loss: 0.1603 - accuracy: 0.9394 - val_loss: 0.1839 - val_accuracy: 0.9288\nEpoch 34/50\n590/590 [==============================] - 2s 4ms/step - loss: 0.1516 - accuracy: 0.9429 - val_loss: 0.1706 - val_accuracy: 0.9368\nEpoch 35/50\n590/590 [==============================] - 2s 4ms/step - loss: 0.1479 - accuracy: 0.9440 - val_loss: 0.1620 - val_accuracy: 0.9447\nEpoch 36/50\n590/590 [==============================] - 2s 4ms/step - loss: 0.1547 - accuracy: 0.9445 - val_loss: 0.1555 - val_accuracy: 0.9417\nEpoch 37/50\n590/590 [==============================] - 2s 4ms/step - loss: 0.1456 - accuracy: 0.9451 - val_loss: 0.1390 - val_accuracy: 0.9476\nEpoch 38/50\n590/590 [==============================] - 2s 4ms/step - loss: 0.1400 - accuracy: 0.9478 - val_loss: 0.1763 - val_accuracy: 0.9347\nEpoch 39/50\n590/590 [==============================] - 2s 4ms/step - loss: 0.1634 - accuracy: 0.9402 - val_loss: 0.1451 - val_accuracy: 0.9470\nEpoch 40/50\n590/590 [==============================] - 2s 4ms/step - loss: 0.1263 - accuracy: 0.9526 - val_loss: 0.1301 - val_accuracy: 0.9498\nEpoch 41/50\n590/590 [==============================] - 2s 4ms/step - loss: 0.1283 - accuracy: 0.9521 - val_loss: 0.1401 - val_accuracy: 0.9495\nEpoch 42/50\n590/590 [==============================] - 2s 4ms/step - loss: 0.1370 - accuracy: 0.9486 - val_loss: 0.1761 - val_accuracy: 0.9332\nEpoch 43/50\n590/590 [==============================] - 2s 4ms/step - loss: 0.1260 - accuracy: 0.9533 - val_loss: 0.1405 - val_accuracy: 0.9474\nEpoch 44/50\n590/590 [==============================] - 2s 4ms/step - loss: 0.1291 - accuracy: 0.9530 - val_loss: 0.1985 - val_accuracy: 0.9404\nEpoch 45/50\n590/590 [==============================] - 2s 4ms/step - loss: 0.1166 - accuracy: 0.9566 - val_loss: 0.2125 - val_accuracy: 0.9372\nEpoch 46/50\n590/590 [==============================] - 2s 4ms/step - loss: 0.1178 - accuracy: 0.9571 - val_loss: 0.1616 - val_accuracy: 0.9519\nEpoch 47/50\n590/590 [==============================] - 2s 4ms/step - loss: 0.1243 - accuracy: 0.9539 - val_loss: 0.1643 - val_accuracy: 0.9404\nEpoch 48/50\n590/590 [==============================] - 2s 4ms/step - loss: 0.1206 - accuracy: 0.9574 - val_loss: 0.1347 - val_accuracy: 0.9491\nEpoch 49/50\n590/590 [==============================] - 2s 4ms/step - loss: 0.1038 - accuracy: 0.9610 - val_loss: 0.1265 - val_accuracy: 0.9553\nEpoch 50/50\n590/590 [==============================] - 2s 4ms/step - loss: 0.1141 - accuracy: 0.9584 - val_loss: 0.1313 - val_accuracy: 0.9548\n",
          "output_type": "stream"
        }
      ]
    },
    {
      "cell_type": "markdown",
      "source": [
        "### Plot training history"
      ],
      "metadata": {
        "papermill": {
          "duration": 0.087699,
          "end_time": "2021-09-24T16:37:32.732021",
          "exception": false,
          "start_time": "2021-09-24T16:37:32.644322",
          "status": "completed"
        },
        "tags": [],
        "id": "088a4bb3"
      }
    },
    {
      "cell_type": "code",
      "source": [
        "import matplotlib.pyplot as plt\n",
        "plt.plot(hist.history['accuracy'])\n",
        "plt.plot(hist.history['val_accuracy'])\n",
        "plt.title('model accuracy')\n",
        "plt.ylabel('accuracy')\n",
        "plt.xlabel('epoch')\n",
        "plt.legend(['train', 'val'], loc='upper left')\n",
        "plt.show()"
      ],
      "metadata": {
        "papermill": {
          "duration": 0.3226,
          "end_time": "2021-09-24T16:37:33.143187",
          "exception": false,
          "start_time": "2021-09-24T16:37:32.820587",
          "status": "completed"
        },
        "tags": [],
        "id": "a34a64f0",
        "outputId": "288ea4d3-9277-4854-b9c8-7a03332a203b",
        "execution": {
          "iopub.status.busy": "2023-11-09T09:37:32.996316Z",
          "iopub.execute_input": "2023-11-09T09:37:32.996612Z",
          "iopub.status.idle": "2023-11-09T09:37:33.303367Z",
          "shell.execute_reply.started": "2023-11-09T09:37:32.996586Z",
          "shell.execute_reply": "2023-11-09T09:37:33.302385Z"
        },
        "trusted": true
      },
      "execution_count": null,
      "outputs": [
        {
          "output_type": "display_data",
          "data": {
            "text/plain": "<Figure size 640x480 with 1 Axes>",
            "image/png": "[encoded data removed]"
          },
          "metadata": {}
        }
      ]
    },
    {
      "cell_type": "code",
      "source": [
        "import matplotlib.pyplot as plt\n",
        "plt.plot(hist.history['loss'])\n",
        "plt.plot(hist.history['val_loss'])\n",
        "plt.title('model loss')\n",
        "plt.ylabel('loss')\n",
        "plt.xlabel('epoch')\n",
        "plt.legend(['train', 'val'], loc='upper left')\n",
        "plt.show()"
      ],
      "metadata": {
        "papermill": {
          "duration": 0.278639,
          "end_time": "2021-09-24T16:37:33.511333",
          "exception": false,
          "start_time": "2021-09-24T16:37:33.232694",
          "status": "completed"
        },
        "tags": [],
        "id": "8b5739a0",
        "outputId": "199e263f-6c5e-4aef-c744-67cc6afec11d",
        "execution": {
          "iopub.status.busy": "2023-11-09T09:37:37.031507Z",
          "iopub.execute_input": "2023-11-09T09:37:37.032296Z",
          "iopub.status.idle": "2023-11-09T09:37:37.333202Z",
          "shell.execute_reply.started": "2023-11-09T09:37:37.032261Z",
          "shell.execute_reply": "2023-11-09T09:37:37.332158Z"
        },
        "trusted": true
      },
      "execution_count": null,
      "outputs": [
        {
          "output_type": "display_data",
          "data": {
            "text/plain": "<Figure size 640x480 with 1 Axes>",
            "image/png": "[encoded data removed]"
          },
          "metadata": {}
        }
      ]
    },
    {
      "cell_type": "markdown",
      "source": [
        "## kNN Machine Learning"
      ],
      "metadata": {
        "papermill": {
          "duration": 0.02654,
          "end_time": "2021-09-24T16:37:12.256872",
          "exception": false,
          "start_time": "2021-09-24T16:37:12.230332",
          "status": "completed"
        },
        "tags": [],
        "id": "50ba2010"
      }
    },
    {
      "cell_type": "code",
      "source": [
        "from sklearn.neighbors import KNeighborsClassifier\n",
        "from sklearn.metrics import accuracy_score\n",
        "from sklearn.metrics import classification_report\n",
        "from sklearn.metrics import confusion_matrix\n",
        "knn = KNeighborsClassifier(n_neighbors = 5) #n_neighbors = k"
      ],
      "metadata": {
        "papermill": {
          "duration": 0.982078,
          "end_time": "2021-09-24T16:37:13.268203",
          "exception": false,
          "start_time": "2021-09-24T16:37:12.286125",
          "status": "completed"
        },
        "tags": [],
        "id": "7d08c3ba",
        "execution": {
          "iopub.status.busy": "2023-11-09T09:37:44.667533Z",
          "iopub.execute_input": "2023-11-09T09:37:44.667977Z",
          "iopub.status.idle": "2023-11-09T09:37:44.713222Z",
          "shell.execute_reply.started": "2023-11-09T09:37:44.667941Z",
          "shell.execute_reply": "2023-11-09T09:37:44.712356Z"
        },
        "trusted": true
      },
      "execution_count": null,
      "outputs": []
    },
    {
      "cell_type": "code",
      "source": [
        "knn.fit(X_train,y_train)\n",
        "y_pred_knn = knn.predict(X_test)\n",
        "print('knn Accuracy:',y_pred_knn)\n",
        "print('Accuracy score using knn:',accuracy_score(y_test, y_pred_knn))\n",
        "print('Classification report using knn',classification_report(y_test, y_pred_knn))\n",
        "print('Confusion Matrix using knn',confusion_matrix(y_test, y_pred_knn))"
      ],
      "metadata": {
        "id": "xRz3mVWMrk79",
        "execution": {
          "iopub.status.busy": "2023-11-09T09:37:48.585379Z",
          "iopub.execute_input": "2023-11-09T09:37:48.585764Z",
          "iopub.status.idle": "2023-11-09T09:37:49.637792Z",
          "shell.execute_reply.started": "2023-11-09T09:37:48.585736Z",
          "shell.execute_reply": "2023-11-09T09:37:49.636812Z"
        },
        "trusted": true,
        "outputId": "0dd3a2c5-104c-4752-d16f-9ea4686ec35e"
      },
      "execution_count": null,
      "outputs": [
        {
          "name": "stdout",
          "text": "knn Accuracy: [0 0 6 ... 4 3 0]\nAccuracy score using knn: 0.6356351404827859\nClassification report using knn               precision    recall  f1-score   support\n\n           0       0.57      0.81      0.67      1458\n           1       0.94      0.96      0.95      1482\n           2       0.68      0.73      0.70      1449\n           3       0.47      0.58      0.52      1501\n           4       0.49      0.48      0.48      1442\n           5       0.52      0.28      0.36      1389\n           6       0.87      0.58      0.70      1387\n\n    accuracy                           0.64     10108\n   macro avg       0.65      0.63      0.63     10108\nweighted avg       0.65      0.64      0.63     10108\n\nConfusion Matrix using knn [[1176    1  222   31   10   15    3]\n [  29 1425    2    4   10    2   10]\n [ 349    1 1054   26   11    8    0]\n [ 172    5   89  878  240  108    9]\n [ 106   17   45  393  696  143   42]\n [ 172    8  106  410  252  389   52]\n [  62   55   24  141  212   86  807]]\n",
          "output_type": "stream"
        }
      ]
    },
    {
      "cell_type": "markdown",
      "source": [
        "## SVM Machine Learning"
      ],
      "metadata": {
        "papermill": {
          "duration": 0.025523,
          "end_time": "2021-09-24T16:37:02.995832",
          "exception": false,
          "start_time": "2021-09-24T16:37:02.970309",
          "status": "completed"
        },
        "tags": [],
        "id": "a94fe27d"
      }
    },
    {
      "cell_type": "code",
      "source": [
        "from sklearn.svm import SVC\n",
        "svm = SVC(random_state = 1)"
      ],
      "metadata": {
        "papermill": {
          "duration": 9.179408,
          "end_time": "2021-09-24T16:37:12.201044",
          "exception": false,
          "start_time": "2021-09-24T16:37:03.021636",
          "status": "completed"
        },
        "tags": [],
        "id": "d875df33",
        "execution": {
          "iopub.status.busy": "2023-11-09T09:38:06.018000Z",
          "iopub.execute_input": "2023-11-09T09:38:06.018383Z",
          "iopub.status.idle": "2023-11-09T09:38:06.023135Z",
          "shell.execute_reply.started": "2023-11-09T09:38:06.018357Z",
          "shell.execute_reply": "2023-11-09T09:38:06.022170Z"
        },
        "trusted": true
      },
      "execution_count": null,
      "outputs": []
    },
    {
      "cell_type": "code",
      "source": [
        "svm.fit(X_train,y_train)\n",
        "y_pred_svm = svm.predict(X_test)\n",
        "print('svm Accuracy:',y_pred_svm)\n",
        "print('Accuracy score using svm:',accuracy_score(y_test, y_pred_svm))\n",
        "print('Classification report using svm',classification_report(y_test, y_pred_svm))\n",
        "print('Confusion Matrix using svm',confusion_matrix(y_test, y_pred_svm))"
      ],
      "metadata": {
        "id": "H3K_QY6rrpum",
        "execution": {
          "iopub.status.busy": "2023-11-09T09:38:06.667467Z",
          "iopub.execute_input": "2023-11-09T09:38:06.668458Z",
          "iopub.status.idle": "2023-11-09T09:38:57.820626Z",
          "shell.execute_reply.started": "2023-11-09T09:38:06.668421Z",
          "shell.execute_reply": "2023-11-09T09:38:57.819593Z"
        },
        "trusted": true,
        "outputId": "2f036dfe-1ec5-4159-a5aa-dedd99bdff7f"
      },
      "execution_count": null,
      "outputs": [
        {
          "name": "stdout",
          "text": "svm Accuracy: [1 0 1 ... 1 0 0]\nAccuracy score using svm: 0.552829442026118\nClassification report using svm               precision    recall  f1-score   support\n\n           0       0.52      0.57      0.54      1458\n           1       0.55      1.00      0.71      1482\n           2       0.76      0.60      0.67      1449\n           3       0.44      0.36      0.39      1501\n           4       0.44      0.41      0.43      1442\n           5       0.43      0.23      0.30      1389\n           6       0.72      0.69      0.70      1387\n\n    accuracy                           0.55     10108\n   macro avg       0.55      0.55      0.53     10108\nweighted avg       0.55      0.55      0.54     10108\n\nConfusion Matrix using svm [[ 838  317  205   50   10   30    8]\n [   4 1478    0    0    0    0    0]\n [ 364   86  871   42   18   59    9]\n [ 133  177   13  535  345  225   73]\n [  74  246    2  269  593  113  145]\n [ 186  162   51  296  240  322  132]\n [  27  231   11   27  135    5  951]]\n",
          "output_type": "stream"
        }
      ]
    },
    {
      "cell_type": "markdown",
      "source": [
        "## Random Forest Classifier"
      ],
      "metadata": {
        "id": "Mc9-RCMlreqW"
      }
    },
    {
      "cell_type": "code",
      "source": [
        "from sklearn.ensemble import RandomForestClassifier\n",
        "from sklearn import metrics\n",
        "rf = RandomForestClassifier(n_estimators = 100)"
      ],
      "metadata": {
        "id": "RUMwvhUyrcRH",
        "execution": {
          "iopub.status.busy": "2023-11-09T09:39:10.889543Z",
          "iopub.execute_input": "2023-11-09T09:39:10.890458Z",
          "iopub.status.idle": "2023-11-09T09:39:10.916946Z",
          "shell.execute_reply.started": "2023-11-09T09:39:10.890424Z",
          "shell.execute_reply": "2023-11-09T09:39:10.915993Z"
        },
        "trusted": true
      },
      "execution_count": null,
      "outputs": []
    },
    {
      "cell_type": "code",
      "source": [
        "rf.fit(X_train, y_train)\n",
        "y_pred_rf = rf.predict(X_test)\n",
        "print('rf Accuracy:',y_pred_rf)\n",
        "print('Accuracy score using rf:',accuracy_score(y_test, y_pred_rf))\n",
        "print('Classification report using rf',classification_report(y_test, y_pred_rf))\n",
        "print('Confusion Matrix using rf',confusion_matrix(y_test, y_pred_rf))"
      ],
      "metadata": {
        "id": "qJD30-e7t9Ou",
        "execution": {
          "iopub.status.busy": "2023-11-09T09:39:11.206617Z",
          "iopub.execute_input": "2023-11-09T09:39:11.207008Z",
          "iopub.status.idle": "2023-11-09T09:39:20.075202Z",
          "shell.execute_reply.started": "2023-11-09T09:39:11.206975Z",
          "shell.execute_reply": "2023-11-09T09:39:20.074052Z"
        },
        "trusted": true,
        "outputId": "1a0b295d-b392-459a-d90d-89a92d9714b1"
      },
      "execution_count": null,
      "outputs": [
        {
          "name": "stdout",
          "text": "rf Accuracy: [0 0 6 ... 3 3 0]\nAccuracy score using rf: 0.9811040759794223\nClassification report using rf               precision    recall  f1-score   support\n\n           0       0.99      0.99      0.99      1458\n           1       1.00      1.00      1.00      1482\n           2       0.99      1.00      0.99      1449\n           3       0.96      0.97      0.96      1501\n           4       0.97      0.96      0.96      1442\n           5       0.97      0.95      0.96      1389\n           6       0.99      1.00      0.99      1387\n\n    accuracy                           0.98     10108\n   macro avg       0.98      0.98      0.98     10108\nweighted avg       0.98      0.98      0.98     10108\n\nConfusion Matrix using rf [[1448    0    8    0    0    2    0]\n [   0 1482    0    0    0    0    0]\n [   4    0 1445    0    0    0    0]\n [   2    0    2 1460   20   13    4]\n [   2    0    0   34 1382   18    6]\n [   8    0    2   34   24 1317    4]\n [   0    0    0    0    0    4 1383]]\n",
          "output_type": "stream"
        }
      ]
    },
    {
      "cell_type": "markdown",
      "source": [
        "## Comparison of Accuracy of Models"
      ],
      "metadata": {
        "id": "5nvuU9Igv6iL"
      }
    },
    {
      "cell_type": "code",
      "source": [
        "print(\"For ANN:\")\n",
        "print(\"\\nDNN Accuracy on Train Data: {}\".format(hist.history['accuracy'][-1]))\n",
        "print(\"\\nDNN Accuracy on Validation Data: {}\".format(hist.history['val_accuracy'][-1]))\n",
        "print(\"\\nFor kNN:\")\n",
        "print('\\nAccuracy score using knn:',accuracy_score(y_test, y_pred_knn))\n",
        "print('\\nClassification report using knn',classification_report(y_test, y_pred_knn))\n",
        "print(\"\\nFor SVM:\")\n",
        "print('\\nAccuracy score using svm:',accuracy_score(y_test, y_pred_svm))\n",
        "print('\\nClassification report using svm',classification_report(y_test, y_pred_svm))\n",
        "print(\"\\nFor RF Classifier: \")\n",
        "print('\\nAccuracy score using rf:',accuracy_score(y_test, y_pred_rf))\n",
        "print('\\nClassification report using rf',classification_report(y_test, y_pred_rf))"
      ],
      "metadata": {
        "id": "enRylsTMwL8P",
        "outputId": "7efb9f88-79a1-4be0-e750-87ad038d398d",
        "execution": {
          "iopub.status.busy": "2023-11-09T09:39:25.658789Z",
          "iopub.execute_input": "2023-11-09T09:39:25.659477Z",
          "iopub.status.idle": "2023-11-09T09:39:25.762274Z",
          "shell.execute_reply.started": "2023-11-09T09:39:25.659444Z",
          "shell.execute_reply": "2023-11-09T09:39:25.761265Z"
        },
        "trusted": true
      },
      "execution_count": null,
      "outputs": [
        {
          "name": "stdout",
          "text": "For ANN:\n\nDNN Accuracy on Train Data: 0.9584481716156006\n\nDNN Accuracy on Validation Data: 0.9548441767692566\n\nFor kNN:\n\nAccuracy score using knn: 0.6356351404827859\n\nClassification report using knn               precision    recall  f1-score   support\n\n           0       0.57      0.81      0.67      1458\n           1       0.94      0.96      0.95      1482\n           2       0.68      0.73      0.70      1449\n           3       0.47      0.58      0.52      1501\n           4       0.49      0.48      0.48      1442\n           5       0.52      0.28      0.36      1389\n           6       0.87      0.58      0.70      1387\n\n    accuracy                           0.64     10108\n   macro avg       0.65      0.63      0.63     10108\nweighted avg       0.65      0.64      0.63     10108\n\n\nFor SVM:\n\nAccuracy score using svm: 0.552829442026118\n\nClassification report using svm               precision    recall  f1-score   support\n\n           0       0.52      0.57      0.54      1458\n           1       0.55      1.00      0.71      1482\n           2       0.76      0.60      0.67      1449\n           3       0.44      0.36      0.39      1501\n           4       0.44      0.41      0.43      1442\n           5       0.43      0.23      0.30      1389\n           6       0.72      0.69      0.70      1387\n\n    accuracy                           0.55     10108\n   macro avg       0.55      0.55      0.53     10108\nweighted avg       0.55      0.55      0.54     10108\n\n\nFor RF Classifier: \n\nAccuracy score using rf: 0.9811040759794223\n\nClassification report using rf               precision    recall  f1-score   support\n\n           0       0.99      0.99      0.99      1458\n           1       1.00      1.00      1.00      1482\n           2       0.99      1.00      0.99      1449\n           3       0.96      0.97      0.96      1501\n           4       0.97      0.96      0.96      1442\n           5       0.97      0.95      0.96      1389\n           6       0.99      1.00      0.99      1387\n\n    accuracy                           0.98     10108\n   macro avg       0.98      0.98      0.98     10108\nweighted avg       0.98      0.98      0.98     10108\n\n",
          "output_type": "stream"
        }
      ]
    },
    {
      "cell_type": "code",
      "source": [],
      "metadata": {
        "id": "a1Gs7dM2dS1M"
      },
      "execution_count": null,
      "outputs": []
    }
  ]
}